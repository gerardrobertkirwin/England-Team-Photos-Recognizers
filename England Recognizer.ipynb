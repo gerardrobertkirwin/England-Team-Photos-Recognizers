{
 "cells": [
  {
   "cell_type": "code",
   "execution_count": 4,
   "id": "f3c22ddf",
   "metadata": {},
   "outputs": [],
   "source": [
    "from pathlib import Path\n",
    "import face_recognition\n",
    "import pickle"
   ]
  },
  {
   "cell_type": "code",
   "execution_count": 46,
   "id": "2a0db29c",
   "metadata": {},
   "outputs": [],
   "source": [
    "from collections import Counter\n",
    "from PIL import Image, ImageDraw"
   ]
  },
  {
   "cell_type": "code",
   "execution_count": 5,
   "id": "4de838a6",
   "metadata": {},
   "outputs": [],
   "source": [
    "DEFAULT_ENCODINGS_PATH = Path(\"output/encodings.pkl\")\n",
    "Path(\"training\").mkdir(exist_ok=True)\n",
    "Path(\"output\").mkdir(exist_ok=True)\n",
    "Path(\"validation\").mkdir(exist_ok=True)"
   ]
  },
  {
   "cell_type": "code",
   "execution_count": 7,
   "id": "344d4cba",
   "metadata": {},
   "outputs": [],
   "source": [
    "def encode_known_faces(\n",
    "    model: str = \"hog\", encodings_location: Path = DEFAULT_ENCODINGS_PATH\n",
    ") -> None:\n",
    "    names = []\n",
    "    encodings = []\n",
    "    for filepath in Path(\"training\").glob(\"*/*\"):\n",
    "        name = filepath.parent.name\n",
    "        image = face_recognition.load_image_file(filepath)\n",
    "        face_locations = face_recognition.face_locations(image, model=model)\n",
    "        face_encodings = face_recognition.face_encodings(image, face_locations)\n",
    "        for encoding in face_encodings:\n",
    "            names.append(name)\n",
    "            encodings.append(encoding)\n",
    "    name_encodings = {\"names\": names, \"encodings\": encodings}\n",
    "    with encodings_location.open(mode=\"wb\") as f:\n",
    "        pickle.dump(name_encodings, f)\n",
    "     "
   ]
  },
  {
   "cell_type": "code",
   "execution_count": 12,
   "id": "61b206a4",
   "metadata": {},
   "outputs": [],
   "source": [
    "encode_known_faces()"
   ]
  },
  {
   "cell_type": "code",
   "execution_count": 40,
   "id": "56a958cc",
   "metadata": {},
   "outputs": [],
   "source": [
    "def _recognize_face(unknown_encoding, loaded_encodings):\n",
    "    boolean_matches = face_recognition.compare_faces(\n",
    "        loaded_encodings[\"encodings\"], unknown_encoding\n",
    "    )\n",
    "    votes = Counter(\n",
    "        name\n",
    "        for match, name in zip(boolean_matches, loaded_encodings[\"names\"])\n",
    "        if match\n",
    "    )\n",
    "    if votes:\n",
    "        return votes.most_common(1)[0][0]\n",
    "      "
   ]
  },
  {
   "cell_type": "code",
   "execution_count": 51,
   "id": "03855fe2",
   "metadata": {},
   "outputs": [],
   "source": [
    "def recognize_faces(\n",
    "    image_location: str,\n",
    "    model: str = \"hog\",\n",
    "    encodings_location: Path = DEFAULT_ENCODINGS_PATH,\n",
    ") -> None:\n",
    "    with encodings_location.open(mode=\"rb\") as f:\n",
    "        loaded_encodings = pickle.load(f)\n",
    "\n",
    "    input_image = face_recognition.load_image_file(image_location)\n",
    "        \n",
    "    input_face_locations = face_recognition.face_locations(\n",
    "        input_image, model=model\n",
    "    )\n",
    "    input_face_encodings = face_recognition.face_encodings(\n",
    "        input_image, input_face_locations\n",
    "    )\n",
    "    \n",
    "    pillow_image = Image.fromarray(input_image)\n",
    "    draw = ImageDraw.Draw(pillow_image)\n",
    "    \n",
    "    for bounding_box, unknown_encoding in zip(\n",
    "        input_face_locations, input_face_encodings\n",
    "    ):\n",
    "        name = _recognize_face(unknown_encoding, loaded_encodings)\n",
    "        if not name:\n",
    "            name = \"Unknown\"\n",
    "        print(name, bounding_box)   "
   ]
  },
  {
   "cell_type": "code",
   "execution_count": 42,
   "id": "cc7050f5",
   "metadata": {
    "scrolled": true
   },
   "outputs": [
    {
     "name": "stdout",
     "output_type": "stream",
     "text": [
      "Harry Kane (82, 425, 211, 296)\n"
     ]
    }
   ],
   "source": [
    "recognize_faces(\"whoami.jpg\")"
   ]
  },
  {
   "cell_type": "markdown",
   "id": "1d462576",
   "metadata": {},
   "source": [
    "Function is correct.\n",
    "![image](whoami.jpg)"
   ]
  },
  {
   "cell_type": "code",
   "execution_count": 50,
   "id": "14cc6d22",
   "metadata": {},
   "outputs": [],
   "source": [
    "BOUNDING_BOX_COLOR = \"blue\"\n",
    "TEXT_COLOR = \"white\"\n",
    "\n",
    "def _display_face(draw, bounding_box, name):\n",
    "    top, right, bottom, left = bounding_box\n",
    "    draw.rectangle(((left, top), (right, bottom)), outline=BOUNDING_BOX_COLOR)\n",
    "    text_left, text_top, text_right, text_bottom = draw.textbbox(\n",
    "        (left, bottom), name\n",
    "    )\n",
    "    draw.rectangle(\n",
    "        ((text_left, text_top), (text_right, text_bottom)),\n",
    "        fill=\"blue\",\n",
    "        outline=\"blue\",\n",
    "    )\n",
    "    draw.text(\n",
    "        (text_left, text_top),\n",
    "        name,\n",
    "        fill=\"white\",\n",
    "    )"
   ]
  },
  {
   "cell_type": "code",
   "execution_count": 51,
   "id": "001e719f",
   "metadata": {},
   "outputs": [],
   "source": [
    "def recognize_faces(\n",
    "    image_location: str,\n",
    "    model: str = \"hog\",\n",
    "    encodings_location: Path = DEFAULT_ENCODINGS_PATH,\n",
    ") -> None:\n",
    "    with encodings_location.open(mode=\"rb\") as f:\n",
    "        loaded_encodings = pickle.load(f)\n",
    "\n",
    "    input_image = face_recognition.load_image_file(image_location)\n",
    "        \n",
    "    input_face_locations = face_recognition.face_locations(\n",
    "        input_image, model=model\n",
    "    )\n",
    "    input_face_encodings = face_recognition.face_encodings(\n",
    "        input_image, input_face_locations\n",
    "    )\n",
    "    \n",
    "    pillow_image = Image.fromarray(input_image)\n",
    "    draw = ImageDraw.Draw(pillow_image)\n",
    "    \n",
    "    for bounding_box, unknown_encoding in zip(\n",
    "        input_face_locations, input_face_encodings\n",
    "    ):\n",
    "        name = _recognize_face(unknown_encoding, loaded_encodings)\n",
    "        if not name:\n",
    "            name = \"Unknown\"\n",
    "        #print(name, bounding_box)\n",
    "        _display_face(draw, bounding_box, name)\n",
    "    del draw\n",
    "    pillow_image.show()    "
   ]
  },
  {
   "cell_type": "code",
   "execution_count": 52,
   "id": "71b43be4",
   "metadata": {
    "scrolled": true
   },
   "outputs": [],
   "source": [
    "recognize_faces(\"whoami.jpg\")"
   ]
  },
  {
   "cell_type": "markdown",
   "id": "6b64a977",
   "metadata": {},
   "source": [
    "Once again the function is correct and the identification box is added.\n",
    "![image](whoami_box.jpg)"
   ]
  },
  {
   "cell_type": "code",
   "execution_count": 53,
   "id": "61615a06",
   "metadata": {},
   "outputs": [],
   "source": [
    "def validate(model: str = \"hog\"):\n",
    "    for filepath in Path(\"validation\").rglob(\"*\"):\n",
    "        if filepath.is_file():\n",
    "            recognize_faces(\n",
    "                image_location=str(filepath.absolute()), model=model\n",
    "            )"
   ]
  },
  {
   "cell_type": "code",
   "execution_count": 54,
   "id": "3e0348ec",
   "metadata": {},
   "outputs": [],
   "source": [
    "validate()"
   ]
  }
 ],
 "metadata": {
  "kernelspec": {
   "display_name": "Python 3",
   "language": "python",
   "name": "python3"
  },
  "language_info": {
   "codemirror_mode": {
    "name": "ipython",
    "version": 3
   },
   "file_extension": ".py",
   "mimetype": "text/x-python",
   "name": "python",
   "nbconvert_exporter": "python",
   "pygments_lexer": "ipython3",
   "version": "3.8.8"
  }
 },
 "nbformat": 4,
 "nbformat_minor": 5
}
